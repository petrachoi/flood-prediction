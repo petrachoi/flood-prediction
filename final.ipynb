{
  "cells": [
    {
      "cell_type": "code",
      "execution_count": null,
      "metadata": {
        "colab": {
          "base_uri": "https://localhost:8080/"
        },
        "id": "e0gqNFuHKCA6",
        "outputId": "4744397e-9b57-46f1-9f9a-86982fb7a648"
      },
      "outputs": [
        {
          "name": "stdout",
          "output_type": "stream",
          "text": [
            "Mounted at /content/drive\n"
          ]
        }
      ],
      "source": [
        "from google.colab import drive\n",
        "drive.mount('/content/drive')"
      ]
    },
    {
      "cell_type": "code",
      "execution_count": null,
      "metadata": {
        "id": "6YoNQk9COeWF"
      },
      "outputs": [],
      "source": [
        "from PIL import Image\n",
        "im = Image.open('/content/drive/MyDrive/Colab Notebooks/dem.tif')\n",
        "im.show()\n",
        "import numpy\n",
        "dem = numpy.array(im)\n",
        "\n",
        "cim = Image.open('/content/drive/MyDrive/Colab Notebooks/studyarea1.tif')\n",
        "cim.show()\n",
        "cb = numpy.array(cim)\n",
        "\n",
        "lim = Image.open('/content/drive/MyDrive/Colab Notebooks/lc.tif')\n",
        "lim.show()\n",
        "lc = numpy.array(lim)"
      ]
    },
    {
      "cell_type": "code",
      "execution_count": null,
      "metadata": {
        "id": "Zx4BEQ00OxNF"
      },
      "outputs": [],
      "source": [
        "import numpy as np"
      ]
    },
    {
      "cell_type": "code",
      "execution_count": null,
      "metadata": {
        "id": "1YIcNxO2Pwp8"
      },
      "outputs": [],
      "source": [
        "lim = Image.open('/content/drive/MyDrive/Colab Notebooks/ex.tiff')\n",
        "lim.show()\n",
        "w_h1 = numpy.array(lim)"
      ]
    },
    {
      "cell_type": "code",
      "execution_count": null,
      "metadata": {
        "id": "BgHI6ZYyCe9v"
      },
      "outputs": [],
      "source": [
        "import pandas as pd\n",
        "import numpy as np\n",
        "import matplotlib\n",
        "import matplotlib.pyplot as plt\n",
        "import sklearn\n",
        "import math\n",
        "import gdal"
      ]
    },
    {
      "cell_type": "code",
      "execution_count": null,
      "metadata": {
        "colab": {
          "base_uri": "https://localhost:8080/"
        },
        "id": "aYx2qFoFKFAQ",
        "outputId": "62afb846-a26d-4fea-80bc-8d41b69d06f3"
      },
      "outputs": [
        {
          "name": "stdout",
          "output_type": "stream",
          "text": [
            "Collecting dbfread\n",
            "  Downloading dbfread-2.0.7-py2.py3-none-any.whl (20 kB)\n",
            "Installing collected packages: dbfread\n",
            "Successfully installed dbfread-2.0.7\n"
          ]
        }
      ],
      "source": [
        "pip install dbfread"
      ]
    },
    {
      "cell_type": "code",
      "execution_count": null,
      "metadata": {
        "colab": {
          "base_uri": "https://localhost:8080/",
          "height": 389
        },
        "id": "IVbGBot2KGHf",
        "outputId": "2c2cd01a-6051-45ab-ecf4-fe2887c951e4"
      },
      "outputs": [
        {
          "ename": "ModuleNotFoundError",
          "evalue": "ignored",
          "output_type": "error",
          "traceback": [
            "\u001b[0;31m---------------------------------------------------------------------------\u001b[0m",
            "\u001b[0;31mModuleNotFoundError\u001b[0m                       Traceback (most recent call last)",
            "\u001b[0;32m<ipython-input-3-2a91a15b2133>\u001b[0m in \u001b[0;36m<module>\u001b[0;34m()\u001b[0m\n\u001b[1;32m      4\u001b[0m \u001b[0;32mimport\u001b[0m \u001b[0mmatplotlib\u001b[0m\u001b[0;34m.\u001b[0m\u001b[0mpyplot\u001b[0m \u001b[0;32mas\u001b[0m \u001b[0mplt\u001b[0m\u001b[0;34m\u001b[0m\u001b[0;34m\u001b[0m\u001b[0m\n\u001b[1;32m      5\u001b[0m \u001b[0;32mimport\u001b[0m \u001b[0msklearn\u001b[0m\u001b[0;34m\u001b[0m\u001b[0;34m\u001b[0m\u001b[0m\n\u001b[0;32m----> 6\u001b[0;31m \u001b[0;32mimport\u001b[0m \u001b[0mdbfread\u001b[0m\u001b[0;34m\u001b[0m\u001b[0;34m\u001b[0m\u001b[0m\n\u001b[0m\u001b[1;32m      7\u001b[0m \u001b[0;32mfrom\u001b[0m \u001b[0mdbfread\u001b[0m \u001b[0;32mimport\u001b[0m \u001b[0mDBF\u001b[0m\u001b[0;34m\u001b[0m\u001b[0;34m\u001b[0m\u001b[0m\n\u001b[1;32m      8\u001b[0m \u001b[0;32mimport\u001b[0m \u001b[0mmath\u001b[0m\u001b[0;34m\u001b[0m\u001b[0;34m\u001b[0m\u001b[0m\n",
            "\u001b[0;31mModuleNotFoundError\u001b[0m: No module named 'dbfread'",
            "",
            "\u001b[0;31m---------------------------------------------------------------------------\u001b[0;32m\nNOTE: If your import is failing due to a missing package, you can\nmanually install dependencies using either !pip or !apt.\n\nTo view examples of installing some common dependencies, click the\n\"Open Examples\" button below.\n\u001b[0;31m---------------------------------------------------------------------------\u001b[0m\n"
          ]
        }
      ],
      "source": [
        "###\n",
        "import pandas as pd\n",
        "import numpy as np\n",
        "import matplotlib\n",
        "import matplotlib.pyplot as plt\n",
        "import sklearn\n",
        "import dbfread\n",
        "from dbfread import DBF\n",
        "import math\n",
        "import gdal\n",
        "\n",
        "\n",
        "path = r'/content/drive/MyDrive/Colab Notebooks/dem.dbf'\n",
        "table = DBF(path, encoding = 'GBK')\n",
        "df = pd.DataFrame(iter(table))\n",
        "df = df.pivot(index ='X', columns = 'Y', values = 'F18TWK83_1')\n",
        "df = df.values\n",
        "dem = df #dem\n",
        "\n",
        "path = r'/content/drive/MyDrive/Colab Notebooks/lulc.dbf'\n",
        "table = DBF(path, encoding = 'GBK')\n",
        "dl = pd.DataFrame(iter(table))\n",
        "lc = dl.pivot(index='X', columns ='Y', values = 'Extract__1')\n",
        "Cd = lc.values #Cd values from land cover\n",
        "\n",
        "path = r'/content/drive/MyDrive/Colab Notebooks/cb.dbf'\n",
        "table = DBF(path, encoding = 'GBK')\n",
        "dc = pd.DataFrame(iter(table))\n",
        "dc = dc.pivot(index='X', columns ='Y', values = 'cb_trial_t')\n",
        "cb=dc.values #catchment basin \n",
        "\n",
        "###\n"
      ]
    },
    {
      "cell_type": "code",
      "execution_count": null,
      "metadata": {
        "id": "z1NWvbStTYJn"
      },
      "outputs": [],
      "source": [
        "Cd = lc\n",
        "Cd = Cd.astype('float64')\n",
        "Cd[Cd == 1] = 0.15\n",
        "Cd[Cd == 2] = 0.16\n",
        "Cd[Cd == 3] = 0.01\n",
        "Cd[Cd == 4] = 0.005\n",
        "Cd[Cd == 5] = 0.005\n",
        "Cd[Cd == 6] = 0.005\n",
        "Cd[Cd == 7] = 0.005\n",
        "Cd[Cd == 8] = 0.005\n",
        "Cd=np.nan_to_num(Cd)\n",
        "Cd[Cd == 0] = 0.005"
      ]
    },
    {
      "cell_type": "code",
      "execution_count": null,
      "metadata": {
        "colab": {
          "base_uri": "https://localhost:8080/",
          "height": 244
        },
        "id": "iJjOfjUYStgN",
        "outputId": "97cab245-ecf0-4f54-b269-490cc36072e3"
      },
      "outputs": [
        {
          "ename": "KeyboardInterrupt",
          "evalue": "ignored",
          "output_type": "error",
          "traceback": [
            "\u001b[0;31m---------------------------------------------------------------------------\u001b[0m",
            "\u001b[0;31mKeyboardInterrupt\u001b[0m                         Traceback (most recent call last)",
            "\u001b[0;32m<ipython-input-5-a513382d5b9a>\u001b[0m in \u001b[0;36m<module>\u001b[0;34m()\u001b[0m\n\u001b[1;32m      1\u001b[0m \u001b[0;32mfor\u001b[0m \u001b[0ma\u001b[0m \u001b[0;32min\u001b[0m \u001b[0mrange\u001b[0m\u001b[0;34m(\u001b[0m\u001b[0;36m0\u001b[0m\u001b[0;34m,\u001b[0m \u001b[0mlen\u001b[0m\u001b[0;34m(\u001b[0m\u001b[0mCd\u001b[0m\u001b[0;34m)\u001b[0m\u001b[0;34m)\u001b[0m\u001b[0;34m:\u001b[0m\u001b[0;34m\u001b[0m\u001b[0;34m\u001b[0m\u001b[0m\n\u001b[1;32m      2\u001b[0m   \u001b[0;32mfor\u001b[0m \u001b[0mb\u001b[0m \u001b[0;32min\u001b[0m \u001b[0mrange\u001b[0m\u001b[0;34m(\u001b[0m\u001b[0;36m0\u001b[0m\u001b[0;34m,\u001b[0m \u001b[0mlen\u001b[0m\u001b[0;34m(\u001b[0m\u001b[0mCd\u001b[0m\u001b[0;34m[\u001b[0m\u001b[0;36m0\u001b[0m\u001b[0;34m]\u001b[0m\u001b[0;34m)\u001b[0m\u001b[0;34m)\u001b[0m\u001b[0;34m:\u001b[0m\u001b[0;34m\u001b[0m\u001b[0;34m\u001b[0m\u001b[0m\n\u001b[0;32m----> 3\u001b[0;31m     \u001b[0;32mif\u001b[0m \u001b[0mCd\u001b[0m\u001b[0;34m[\u001b[0m\u001b[0ma\u001b[0m\u001b[0;34m,\u001b[0m\u001b[0mb\u001b[0m\u001b[0;34m]\u001b[0m \u001b[0;32min\u001b[0m \u001b[0;34m[\u001b[0m\u001b[0;36m0.15\u001b[0m\u001b[0;34m,\u001b[0m\u001b[0;36m0.16\u001b[0m\u001b[0;34m,\u001b[0m\u001b[0;36m0.01\u001b[0m\u001b[0;34m,\u001b[0m\u001b[0;36m0.005\u001b[0m\u001b[0;34m]\u001b[0m\u001b[0;34m:\u001b[0m\u001b[0;34m\u001b[0m\u001b[0;34m\u001b[0m\u001b[0m\n\u001b[0m\u001b[1;32m      4\u001b[0m       \u001b[0mCd\u001b[0m\u001b[0;34m[\u001b[0m\u001b[0ma\u001b[0m\u001b[0;34m,\u001b[0m\u001b[0mb\u001b[0m\u001b[0;34m]\u001b[0m \u001b[0;34m=\u001b[0m \u001b[0mCd\u001b[0m\u001b[0;34m[\u001b[0m\u001b[0ma\u001b[0m\u001b[0;34m,\u001b[0m\u001b[0mb\u001b[0m\u001b[0;34m]\u001b[0m\u001b[0;34m\u001b[0m\u001b[0;34m\u001b[0m\u001b[0m\n\u001b[1;32m      5\u001b[0m     \u001b[0;32melse\u001b[0m\u001b[0;34m:\u001b[0m\u001b[0;34m\u001b[0m\u001b[0;34m\u001b[0m\u001b[0m\n",
            "\u001b[0;31mKeyboardInterrupt\u001b[0m: "
          ]
        }
      ],
      "source": [
        "for a in range(0, len(Cd)):\n",
        "  for b in range(0, len(Cd[0])):\n",
        "    if Cd[a,b] in [0.15,0.16,0.01,0.005]:\n",
        "      Cd[a,b] = Cd[a,b]\n",
        "    else:\n",
        "      print((a,b))"
      ]
    },
    {
      "cell_type": "code",
      "execution_count": null,
      "metadata": {
        "colab": {
          "base_uri": "https://localhost:8080/",
          "height": 17
        },
        "id": "U4rsjxpOuJhi",
        "outputId": "19f01f40-5d1c-4af2-9953-4b44be7a4cab"
      },
      "outputs": [
        {
          "data": {
            "text/html": [
              "<style>.container { width:100% !important; }</style>"
            ],
            "text/plain": [
              "<IPython.core.display.HTML object>"
            ]
          },
          "metadata": {},
          "output_type": "display_data"
        }
      ],
      "source": [
        "\n",
        "import pandas as pd\n",
        "\n",
        "import urllib3\n",
        "urllib3.disable_warnings()\n",
        "import matplotlib.pyplot as plt\n",
        "\n",
        "from dateutil import parser\n",
        "from datetime import timedelta\n",
        "import matplotlib.dates as mdates\n",
        "import numpy as np\n",
        "from matplotlib.lines import Line2D\n",
        "from IPython.core.display import display, HTML\n",
        "from IPython.display import IFrame\n",
        "import matplotlib as mpl\n",
        "mpl.rcParams['figure.dpi'] = 150\n",
        "display(HTML('<style>.container { width:100% !important; }</style>'))\n",
        "mpl.rcParams['figure.figsize'] = [24, 12]"
      ]
    },
    {
      "cell_type": "code",
      "execution_count": null,
      "metadata": {
        "id": "ZU_IklItukND"
      },
      "outputs": [],
      "source": [
        "ida = pd.read_csv(r'/content/drive/MyDrive/Colab Notebooks/ida.csv')"
      ]
    },
    {
      "cell_type": "code",
      "execution_count": null,
      "metadata": {
        "id": "LRlPcH8qvmCX"
      },
      "outputs": [],
      "source": [
        "ida = np.array(ida)"
      ]
    },
    {
      "cell_type": "code",
      "execution_count": null,
      "metadata": {
        "id": "zaQVN7z1wEPp"
      },
      "outputs": [],
      "source": [
        "ida = ida[:,1]"
      ]
    },
    {
      "cell_type": "code",
      "execution_count": null,
      "metadata": {
        "id": "z3uu9ym3whPS"
      },
      "outputs": [],
      "source": [
        "ida=np.delete(ida,0)"
      ]
    },
    {
      "cell_type": "code",
      "execution_count": null,
      "metadata": {
        "id": "b42hoLVqwn5A"
      },
      "outputs": [],
      "source": [
        "ida_m = ida/141732"
      ]
    },
    {
      "cell_type": "code",
      "execution_count": null,
      "metadata": {
        "id": "hqc1f_gww2iS"
      },
      "outputs": [],
      "source": [
        "ida_m"
      ]
    },
    {
      "cell_type": "code",
      "execution_count": null,
      "metadata": {
        "id": "lqAK5AMlKJi9"
      },
      "outputs": [],
      "source": [
        "def direction(dem):\n",
        "    d=np.zeros((len(dem), len(dem[0]), 2))\n",
        "    d_i = np.zeros(((len(dem)), len(dem[0])), 'int')\n",
        "    for a in range(1,len(dem)-1):\n",
        "        for b in range(1,len(dem[0])-1):\n",
        "            minlist = [0,0,0,0,0,0,0,0,0]\n",
        "            minlist[0] = dem[a-1,b-1]\n",
        "            minlist[1] = dem[a-1, b]\n",
        "            minlist[2] = dem[a-1, b+1]\n",
        "            minlist[3] = dem[a, b-1]\n",
        "            minlist[4] = dem[a, b]\n",
        "            minlist[5] = dem[a, b+1]\n",
        "            minlist[6] = dem[a+1, b-1]\n",
        "            minlist[7] = dem[a+1, b]\n",
        "            minlist[8] = dem[a+1, b+1]\n",
        "            \n",
        "            k = np.argmin(minlist)\n",
        "            d_i[a,b]=k\n",
        "        \n",
        "            if k == 0:\n",
        "                l = (a-1, b-1)\n",
        "                d[a,b] = l\n",
        "            if k == 1:\n",
        "                l = (a-1, b)\n",
        "                d[a,b] = l\n",
        "            if k == 2:\n",
        "                l = (a-1, b+1)\n",
        "                d[a,b] = l\n",
        "            if k == 3:\n",
        "                l = (a, b-1)\n",
        "                d[a,b] = l\n",
        "            if k == 4:\n",
        "                l = (a, b)\n",
        "                d[a,b] = l\n",
        "            if k == 5:\n",
        "                l = (a, b+1)\n",
        "                d[a,b] = l\n",
        "            if k == 6:\n",
        "                l = (a+1, b-1)\n",
        "                d[a,b] = l\n",
        "            if k == 7:\n",
        "                l = (a+1, b)\n",
        "                d[a,b] = l\n",
        "            if k==8:\n",
        "                l = (a+1, b+1)\n",
        "                d[a,b] = l\n",
        "                \n",
        "            \n",
        "    return d, d_i\n"
      ]
    },
    {
      "cell_type": "code",
      "execution_count": null,
      "metadata": {
        "id": "4fUXBXMdsUP-"
      },
      "outputs": [],
      "source": [
        "import scipy.constants\n",
        "def get_velocity(r, h1, h2, l1, l2, C_D):\n",
        "  g = scipy.constants.g\n",
        "  u = np.sqrt(get_positive(g*(((l1-l2)/np.sqrt((l1-l2)**2 + r**2)-(h2-h1)/r))*max(h1,h2)/C_D))\n",
        "\n",
        "  return u"
      ]
    },
    {
      "cell_type": "code",
      "execution_count": null,
      "metadata": {
        "id": "liXrYK9ViBi3"
      },
      "outputs": [],
      "source": [
        "def get_positive(sequence):\n",
        "  if sequence<0:\n",
        "    sequence = 0\n",
        "  else :\n",
        "    sequence = sequence\n",
        "\n",
        "  return sequence"
      ]
    },
    {
      "cell_type": "code",
      "execution_count": null,
      "metadata": {
        "id": "e9aVFFQ6KND1"
      },
      "outputs": [],
      "source": [
        "def vel (r_, d_i, Cd, d, w_h, dem, h0):\n",
        "\n",
        "    u = np.zeros((len(dem), len(dem[0])))\n",
        "    for a in range(1,len(dem)-1):\n",
        "        for b in range(1,len(dem[0])-1):\n",
        "            (x,y) = d[a,b]\n",
        "            x=x.astype(int)\n",
        "            y=y.astype(int)\n",
        "            if d_i[a,b] ==4:\n",
        "              u[a,b] = 0\n",
        "            elif d_i[a,b] in [1,3,5,7]:\n",
        "                r = r_\n",
        "                h1 = w_h[a,b]\n",
        "                h2 = w_h[x,y]\n",
        "                l1, l2 = dem[a,b], dem[x,y]                \n",
        "                u[a,b] = get_velocity(r, h1, h2, l1, l2, Cd[a,b] )\n",
        "            \n",
        "            elif d_i[a,b] in [0,2,6,8]:\n",
        "                r = r_*1.4142\n",
        "                h1 = w_h[a,b]\n",
        "                h2 = w_h[x,y]\n",
        "                l1, l2 = dem[a,b], dem[x,y]\n",
        "                u[a,b] = get_velocity(r, h1, h2, l1, l2, Cd[a,b] )\n",
        "\n",
        "    return u\n"
      ]
    },
    {
      "cell_type": "code",
      "execution_count": null,
      "metadata": {
        "id": "N2U76ju2LoVx"
      },
      "outputs": [],
      "source": [
        "def vol(z, r, d_i, dem, w_h, c_V, u, d, cb, h0, dt):\n",
        "    m_out = np.zeros((len(dem),len(dem[0])))    \n",
        "    m_in = np.zeros((len(dem),len(dem[0])))\n",
        "    giving_water = np.zeros((len(dem),len(dem[0])))\n",
        "    for a in range(1,len(dem)-1):\n",
        "        for b in range(1,len(dem[0])-1):\n",
        "            (x,y) = d[a,b]\n",
        "            x=x.astype(int)\n",
        "            y=y.astype(int)\n",
        "            giving_water[a,b]= get_positive(z[a,b]-z[x,y])            \n",
        "            o = u[a,b]*1*dt*giving_water[a,b]*r\n",
        "            p = (1/1.4142)*u[a,b]*dt*(r-u[a,b]*dt/1.4142)*giving_water[a,b]\n",
        "            q = 1/2*(u[a,b]*dt)**2*giving_water[a,b]\n",
        "            l = (1.4142*r*u[a,b]*dt-(1/2)*((u[a,b]*dt)**2))*giving_water[a,b]\n",
        "            if d_i[a,b] in [1,3,5,7]: \n",
        "                m_out[a,b] = m_out[a,b] + o\n",
        "                m_in[x,y] = m_in[x,y] + o\n",
        "\n",
        "            elif d_i[a,b] ==0:\n",
        "                m_out[a,b] = m_out[a,b] + l\n",
        "                m_in[x,y] = m_in[x,y] + q\n",
        "                m_in[a,b-1] = m_in[a,b-1] + p\n",
        "                m_in[a-1,b] = m_in[a-1,b] + p\n",
        "                \n",
        "            elif d_i[a,b] ==2:\n",
        "                m_out[a,b] = m_out[a,b] +  l\n",
        "                m_in[x,y] = m_in[x,y] + q\n",
        "                m_in[a,b+1] = m_in[a,b+1] + p\n",
        "                m_in[a-1,b] = m_in[a-1,b] + p\n",
        "                 \n",
        "            elif d_i[a,b] ==6:\n",
        "                m_out[a,b] = m_out[a,b] + l\n",
        "                m_in[x,y] = m_in[x,y] + q\n",
        "                m_in[a,b-1] = m_in[a,b-1] + p\n",
        "                m_in[a+1,b] = m_in[a+1,b] + p\n",
        "\n",
        "            elif d_i[a,b] ==8:\n",
        "                m_out[a,b] = m_out[a,b] + l\n",
        "                m_in[x,y] = m_in[x,y] + q\n",
        "                m_in[a+1,b] = m_in[a+1,b] + p\n",
        "                m_in[a,b+1] = m_in[a,b+1] + p\n",
        "              \n",
        "    for a in range(1,len(dem)-1):\n",
        "        for b in range(1,len(dem[0])-1):\n",
        "          \n",
        "          w_h[a,b] = (w_h[a,b]*r**2+m_in[a,b]-m_out[a,b])/r**2\n",
        "          if w_h[a,b] <=0:\n",
        "            w_h[a,b] = 0   \n",
        "        \n",
        "    for a in range (1, len(dem)-1):\n",
        "        for  b in range(1,len(dem[0])-1):\n",
        "          if cb[a,b] ==1:\n",
        "            c_V[a,b] = c_V[a,b] + w_h[a,b]\n",
        "            w_h[a,b] = 0\n",
        "\n",
        "          z[a,b] = w_h[a,b]+dem[a,b]\n",
        "\n",
        "    \n",
        "\n",
        "    return z, w_h, c_V\n"
      ]
    },
    {
      "cell_type": "code",
      "execution_count": null,
      "metadata": {
        "id": "CLvE3-wZ3jn4"
      },
      "outputs": [],
      "source": [
        "def balance(z, w_h, dem):\n",
        "    for a in range(1, len(z)-1):\n",
        "      for b in range(1, len(z[0])-1):\n",
        "        if z[a,b]-z[a,b-1]>20:\n",
        "          w_h[a,b]=0.9*w_h[a,b]\n",
        "          w_h[a,b-1] = w_h[a,b-1] +0.1*w_h[a,b]\n",
        "        if z[a,b]-z[a,b+1]>20:\n",
        "          w_h[a,b]=0.9*w_h[a,b]\n",
        "          w_h[a,b+1] = w_h[a,b+1] +0.1*w_h[a,b]\n",
        "        if z[a,b]-z[a+1,b]>20:\n",
        "          w_h[a,b]=0.9*w_h[a,b]\n",
        "          w_h[a+1,b] = w_h[a+1,b] +0.1*w_h[a,b]      \n",
        "        if z[a,b]-z[a+1,b-1]>20:\n",
        "          w_h[a+1,b-1]=0.9*w_h[a,b]\n",
        "          w_h[a+1,b-1] = w_h[a+1,b-1] +0.1*w_h[a,b]\n",
        "        if z[a,b]-z[a+1,b+1]>20:\n",
        "          w_h[a,b]=0.9*w_h[a,b]\n",
        "          w_h[a+1,b+1] = w_h[a+1,b+1] +0.1*w_h[a,b]\n",
        "        if z[a,b]-z[a-1,b-1]>20:\n",
        "          w_h[a,b]=0.9*w_h[a,b]\n",
        "          w_h[a-1,b-1] = w_h[a-1,b-1] +0.1*w_h[a,b]\n",
        "        if z[a,b]-z[a-1,b]>20:\n",
        "          w_h[a,b]=0.9*w_h[a,b]\n",
        "          w_h[a-1,b] = w_h[a-1,b] +0.1*w_h[a,b]\n",
        "        if z[a,b]-z[a-1,b+1]>20:\n",
        "          w_h[a,b]=0.9*w_h[a,b]\n",
        "          w_h[a-1,b+1] = w_h[a-1,b+1] +0.1*w_h[a,b]\n",
        "        \n",
        "        z = dem + w_h\n",
        "    return w_h, z\n"
      ]
    },
    {
      "cell_type": "code",
      "execution_count": null,
      "metadata": {
        "id": "7ESLgwSSTEcE"
      },
      "outputs": [],
      "source": [
        "from tqdm import tqdm\n",
        "def flood(r, dt, number, precip, dem, Cd, cb):\n",
        "  h0 = precip[0]\n",
        "  w_h = np.full((len(dem), len(dem[0])), h0*dt)\n",
        "  z = dem+w_h\n",
        "  z_record = []\n",
        "  w_h_record =[]\n",
        "  giving_water = np.zeros((len(dem), len(dem[0])))\n",
        "  precip = np.full((len(dem), len(dem[0])), h0*dt)\n",
        "  c_V = np.zeros((len(dem),len(dem[0])))\n",
        "  for i in tqdm(range(0, number)):\n",
        "    h0 = precip[i+1]*dt\n",
        "    (d, d_i) = direction(z)\n",
        "    u = vel (r, d_i, Cd, d, w_h, dem, h0)\n",
        "    z, w_h, c_V = vol(z, r, d_i, dem,w_h,c_V, u, d, cb, h0, dt)\n",
        "   # w_h, z = balance(z, w_h, dem)\n",
        "    z_record.append(z)\n",
        "    w_h_record.append(w_h)\n",
        "    w_h = w_h + h0\n",
        "    z = dem + w_h\n",
        "  \n",
        "  return z_record, w_h_record, c_V\n",
        "    "
      ]
    },
    {
      "cell_type": "code",
      "execution_count": null,
      "metadata": {
        "colab": {
          "background_save": true,
          "base_uri": "https://localhost:8080/"
        },
        "id": "3AifKkiNWQe3",
        "outputId": "91a88a46-dfc9-4232-bd0b-39e774d780ef"
      },
      "outputs": [
        {
          "name": "stderr",
          "output_type": "stream",
          "text": [
            "\r  0%|          | 0/10 [00:00<?, ?it/s]"
          ]
        }
      ],
      "source": [
        "\n",
        "(z_record, w_h_record, c_V) = flood(1, 105, 10, ida_m, dem, Cd, cb)"
      ]
    },
    {
      "cell_type": "code",
      "execution_count": null,
      "metadata": {
        "id": "JnqGcKI7_YLq"
      },
      "outputs": [],
      "source": [
        "z_record[7]"
      ]
    },
    {
      "cell_type": "code",
      "execution_count": null,
      "metadata": {
        "id": "gVS7eq5p9zk6"
      },
      "outputs": [],
      "source": [
        "w_h_record[6]"
      ]
    },
    {
      "cell_type": "code",
      "execution_count": null,
      "metadata": {
        "id": "4eXDgVH9Aoa-"
      },
      "outputs": [],
      "source": [
        "w_h_record[4][1000,1200:1500]"
      ]
    },
    {
      "cell_type": "code",
      "execution_count": null,
      "metadata": {
        "colab": {
          "base_uri": "https://localhost:8080/"
        },
        "id": "XRuDyv-I7m6u",
        "outputId": "ff210392-4a9f-4871-d9b8-915c96b469cc"
      },
      "outputs": [
        {
          "data": {
            "text/plain": [
              "0.007"
            ]
          },
          "execution_count": 59,
          "metadata": {
            "tags": []
          },
          "output_type": "execute_result"
        }
      ],
      "source": [
        "max(w_h_record[6][580])"
      ]
    },
    {
      "cell_type": "code",
      "execution_count": null,
      "metadata": {
        "id": "ULREAu_6Grhr"
      },
      "outputs": [],
      "source": [
        "import gdal"
      ]
    },
    {
      "cell_type": "code",
      "execution_count": null,
      "metadata": {
        "colab": {
          "base_uri": "https://localhost:8080/"
        },
        "id": "LZZ0Mw6z87FQ",
        "outputId": "20e95f34-80ab-49bb-e998-af4ea73b6394"
      },
      "outputs": [
        {
          "data": {
            "text/plain": [
              "0"
            ]
          },
          "execution_count": 55,
          "metadata": {},
          "output_type": "execute_result"
        }
      ],
      "source": [
        "dst_filename = 'wh_record(0).tiff'\n",
        "x_pixels = len(dem)  # number of pixels in x\n",
        "y_pixels = len(dem[0])  # number of pixels in y\n",
        "driver = gdal.GetDriverByName('GTiff')\n",
        "dataset = driver.Create(dst_filename,x_pixels, y_pixels, 1,gdal.GDT_Float32)\n",
        "  \n",
        "dataset.GetRasterBand(1).WriteArray(w_h_record[0])\n"
      ]
    },
    {
      "cell_type": "code",
      "execution_count": null,
      "metadata": {
        "colab": {
          "base_uri": "https://localhost:8080/"
        },
        "id": "XsV4-HxAeq5B",
        "outputId": "74897ccd-b6d1-480d-f80e-b3734a06d09f"
      },
      "outputs": [
        {
          "data": {
            "text/plain": [
              "0"
            ]
          },
          "execution_count": 56,
          "metadata": {},
          "output_type": "execute_result"
        }
      ],
      "source": [
        "dst_filename = 'wh_record(1)__.tiff'\n",
        "x_pixels = len(dem)  # number of pixels in x\n",
        "y_pixels = len(dem[0])  # number of pixels in y\n",
        "driver = gdal.GetDriverByName('GTiff')\n",
        "dataset = driver.Create(dst_filename,x_pixels, y_pixels, 1,gdal.GDT_Float32)\n",
        "  \n",
        "dataset.GetRasterBand(1).WriteArray(w_h_record[1])\n"
      ]
    },
    {
      "cell_type": "code",
      "execution_count": null,
      "metadata": {
        "colab": {
          "base_uri": "https://localhost:8080/"
        },
        "id": "ZQ2KGjjBenZy",
        "outputId": "45964d2d-797e-4bef-bf5c-7c3f98a8a9e1"
      },
      "outputs": [
        {
          "data": {
            "text/plain": [
              "0"
            ]
          },
          "execution_count": 57,
          "metadata": {},
          "output_type": "execute_result"
        }
      ],
      "source": [
        "dst_filename = 'wh_record(2)__.tiff'\n",
        "x_pixels = len(dem)  # number of pixels in x\n",
        "y_pixels = len(dem[0])  # number of pixels in y\n",
        "driver = gdal.GetDriverByName('GTiff')\n",
        "dataset = driver.Create(dst_filename,x_pixels, y_pixels, 1,gdal.GDT_Float32)\n",
        "  \n",
        "dataset.GetRasterBand(1).WriteArray(w_h_record[2])\n"
      ]
    },
    {
      "cell_type": "code",
      "execution_count": null,
      "metadata": {
        "colab": {
          "base_uri": "https://localhost:8080/"
        },
        "id": "6oL61svj89rC",
        "outputId": "777db03c-dbc5-4da8-8799-83ef060f57c2"
      },
      "outputs": [
        {
          "data": {
            "text/plain": [
              "0"
            ]
          },
          "execution_count": 58,
          "metadata": {},
          "output_type": "execute_result"
        }
      ],
      "source": [
        "dst_filename = 'wh_record(3)__.tiff'\n",
        "x_pixels = len(dem)  # number of pixels in x\n",
        "y_pixels = len(dem[0])  # number of pixels in y\n",
        "driver = gdal.GetDriverByName('GTiff')\n",
        "dataset = driver.Create(dst_filename,x_pixels, y_pixels, 1,gdal.GDT_Float32)\n",
        "  \n",
        "dataset.GetRasterBand(1).WriteArray(w_h_record[3])\n"
      ]
    },
    {
      "cell_type": "code",
      "execution_count": null,
      "metadata": {
        "colab": {
          "base_uri": "https://localhost:8080/"
        },
        "id": "IOgV_1YwwI2F",
        "outputId": "ef2d9a2c-34a1-43bb-b76b-8b376ff905bc"
      },
      "outputs": [
        {
          "data": {
            "text/plain": [
              "0"
            ]
          },
          "execution_count": 59,
          "metadata": {},
          "output_type": "execute_result"
        }
      ],
      "source": [
        "dst_filename = 'wh_record(4)__.tiff'\n",
        "x_pixels = len(dem)  # number of pixels in x\n",
        "y_pixels = len(dem[0])  # number of pixels in y\n",
        "driver = gdal.GetDriverByName('GTiff')\n",
        "dataset = driver.Create(dst_filename,x_pixels, y_pixels, 1,gdal.GDT_Float32)\n",
        "  \n",
        "dataset.GetRasterBand(1).WriteArray(w_h_record[4])"
      ]
    },
    {
      "cell_type": "code",
      "execution_count": null,
      "metadata": {
        "colab": {
          "base_uri": "https://localhost:8080/"
        },
        "id": "9m0SkYr5zF0G",
        "outputId": "b3b6ecef-e066-463e-cd6c-814f8ec315f6"
      },
      "outputs": [
        {
          "data": {
            "text/plain": [
              "0"
            ]
          },
          "execution_count": 60,
          "metadata": {},
          "output_type": "execute_result"
        }
      ],
      "source": [
        "dst_filename = 'wh_record(7)__.tiff'\n",
        "x_pixels = len(dem)  # number of pixels in x\n",
        "y_pixels = len(dem[0])  # number of pixels in y\n",
        "driver = gdal.GetDriverByName('GTiff')\n",
        "dataset = driver.Create(dst_filename,x_pixels, y_pixels, 1,gdal.GDT_Float32)\n",
        "  \n",
        "dataset.GetRasterBand(1).WriteArray(w_h_record[7])\n"
      ]
    },
    {
      "cell_type": "code",
      "execution_count": null,
      "metadata": {
        "colab": {
          "base_uri": "https://localhost:8080/"
        },
        "id": "fOG5tXEvG5Ff",
        "outputId": "30933d19-c4ce-4fd3-d956-4164dee3d900"
      },
      "outputs": [
        {
          "data": {
            "text/plain": [
              "0"
            ]
          },
          "execution_count": 61,
          "metadata": {},
          "output_type": "execute_result"
        }
      ],
      "source": [
        "dst_filename = 'wh_record(8)__.tiff'\n",
        "x_pixels = len(dem)  # number of pixels in x\n",
        "y_pixels = len(dem[0])  # number of pixels in y\n",
        "driver = gdal.GetDriverByName('GTiff')\n",
        "dataset = driver.Create(dst_filename,x_pixels, y_pixels, 1,gdal.GDT_Float32)\n",
        "  \n",
        "dataset.GetRasterBand(1).WriteArray(w_h_record[8])\n"
      ]
    },
    {
      "cell_type": "code",
      "execution_count": null,
      "metadata": {
        "colab": {
          "base_uri": "https://localhost:8080/"
        },
        "id": "0t36ZGnsG-n_",
        "outputId": "3d7c9bcb-1ab2-4c2d-c065-c453559884e1"
      },
      "outputs": [
        {
          "data": {
            "text/plain": [
              "0"
            ]
          },
          "execution_count": 62,
          "metadata": {},
          "output_type": "execute_result"
        }
      ],
      "source": [
        "dst_filename = 'wh_record(9)__.tiff'\n",
        "x_pixels = len(dem)  # number of pixels in x\n",
        "y_pixels = len(dem[0])  # number of pixels in y\n",
        "driver = gdal.GetDriverByName('GTiff')\n",
        "dataset = driver.Create(dst_filename,x_pixels, y_pixels, 1,gdal.GDT_Float32)\n",
        "  \n",
        "dataset.GetRasterBand(1).WriteArray(w_h_record[9])\n"
      ]
    },
    {
      "cell_type": "code",
      "execution_count": null,
      "metadata": {
        "colab": {
          "base_uri": "https://localhost:8080/"
        },
        "id": "6JB0oCp4HBEO",
        "outputId": "4b8b19c8-fb2e-4545-b84d-4aabd044f710"
      },
      "outputs": [
        {
          "data": {
            "text/plain": [
              "0"
            ]
          },
          "execution_count": 64,
          "metadata": {
            "tags": []
          },
          "output_type": "execute_result"
        }
      ],
      "source": [
        "dst_filename = 'w_h_record(4)__.tiff'\n",
        "x_pixels = len(dem)  # number of pixels in x\n",
        "y_pixels = len(dem[0])  # number of pixels in y\n",
        "driver = gdal.GetDriverByName('GTiff')\n",
        "dataset = driver.Create(dst_filename,x_pixels, y_pixels, 1,gdal.GDT_Float32)\n",
        "  \n",
        "dataset.GetRasterBand(1).WriteArray(w_h_record[4])\n"
      ]
    },
    {
      "cell_type": "code",
      "execution_count": null,
      "metadata": {
        "colab": {
          "base_uri": "https://localhost:8080/"
        },
        "id": "PdsuU6CDHEOZ",
        "outputId": "2017d665-1146-4e56-e315-9e94324fe284"
      },
      "outputs": [
        {
          "data": {
            "text/plain": [
              "0"
            ]
          },
          "execution_count": 63,
          "metadata": {},
          "output_type": "execute_result"
        }
      ],
      "source": [
        "dst_filename = 'wh_record(5)__.tiff'\n",
        "x_pixels = len(dem)  # number of pixels in x\n",
        "y_pixels = len(dem[0])  # number of pixels in y\n",
        "driver = gdal.GetDriverByName('GTiff')\n",
        "dataset = driver.Create(dst_filename,x_pixels, y_pixels, 1,gdal.GDT_Float32)\n",
        "  \n",
        "dataset.GetRasterBand(1).WriteArray(w_h_record[5])\n"
      ]
    },
    {
      "cell_type": "code",
      "execution_count": null,
      "metadata": {
        "colab": {
          "base_uri": "https://localhost:8080/"
        },
        "id": "yY5Euke3HHFn",
        "outputId": "974e187d-b73e-4816-ead0-35b15cd7d8cc"
      },
      "outputs": [
        {
          "data": {
            "text/plain": [
              "0"
            ]
          },
          "execution_count": 64,
          "metadata": {},
          "output_type": "execute_result"
        }
      ],
      "source": [
        "dst_filename = 'wh_record(6)__.tiff'\n",
        "x_pixels = len(dem)  # number of pixels in x\n",
        "y_pixels = len(dem[0])  # number of pixels in y\n",
        "driver = gdal.GetDriverByName('GTiff')\n",
        "dataset = driver.Create(dst_filename,x_pixels, y_pixels, 1,gdal.GDT_Float32)\n",
        "  \n",
        "dataset.GetRasterBand(1).WriteArray(w_h_record[6])\n"
      ]
    },
    {
      "cell_type": "code",
      "execution_count": null,
      "metadata": {
        "colab": {
          "base_uri": "https://localhost:8080/"
        },
        "id": "uonhedNgwci9",
        "outputId": "a10df264-aa10-4606-811f-7ada8d06262f"
      },
      "outputs": [
        {
          "data": {
            "text/plain": [
              "0"
            ]
          },
          "execution_count": 36,
          "metadata": {
            "tags": []
          },
          "output_type": "execute_result"
        }
      ],
      "source": [
        "dst_filename = 'z_record(7)__.tiff'\n",
        "x_pixels = len(dem)  # number of pixels in x\n",
        "y_pixels = len(dem[0])  # number of pixels in y\n",
        "driver = gdal.GetDriverByName('GTiff')\n",
        "dataset = driver.Create(dst_filename,x_pixels, y_pixels, 1,gdal.GDT_Float32)\n",
        "  \n",
        "dataset.GetRasterBand(1).WriteArray(z_record[7])\n"
      ]
    },
    {
      "cell_type": "code",
      "execution_count": null,
      "metadata": {
        "colab": {
          "base_uri": "https://localhost:8080/"
        },
        "id": "GQsCFGb3eDxv",
        "outputId": "70e3f45d-5205-4568-d212-38def45ff607"
      },
      "outputs": [
        {
          "data": {
            "text/plain": [
              "0"
            ]
          },
          "execution_count": 37,
          "metadata": {
            "tags": []
          },
          "output_type": "execute_result"
        }
      ],
      "source": [
        "dst_filename = 'z_record(8)__.tiff'\n",
        "x_pixels = len(dem)  # number of pixels in x\n",
        "y_pixels = len(dem[0])  # number of pixels in y\n",
        "driver = gdal.GetDriverByName('GTiff')\n",
        "dataset = driver.Create(dst_filename,x_pixels, y_pixels, 1,gdal.GDT_Float32)\n",
        "  \n",
        "dataset.GetRasterBand(1).WriteArray(z_record[8])\n"
      ]
    },
    {
      "cell_type": "code",
      "execution_count": null,
      "metadata": {
        "colab": {
          "base_uri": "https://localhost:8080/"
        },
        "id": "07nIE-WSlzNr",
        "outputId": "156f7f74-6cfc-4255-ac89-b1f5140a5bbf"
      },
      "outputs": [
        {
          "data": {
            "text/plain": [
              "0"
            ]
          },
          "execution_count": 25,
          "metadata": {
            "tags": []
          },
          "output_type": "execute_result"
        }
      ],
      "source": [
        "dst_filename = 'c_V.tiff'\n",
        "x_pixels = len(dem)  # number of pixels in x\n",
        "y_pixels = len(dem[0])  # number of pixels in y\n",
        "driver = gdal.GetDriverByName('GTiff')\n",
        "dataset = driver.Create(dst_filename,x_pixels, y_pixels, 1,gdal.GDT_Float32)\n",
        "  \n",
        "dataset.GetRasterBand(1).WriteArray(c_V)\n"
      ]
    },
    {
      "cell_type": "code",
      "execution_count": null,
      "metadata": {
        "colab": {
          "base_uri": "https://localhost:8080/"
        },
        "id": "nPpvtBT1ozmk",
        "outputId": "1867753c-369d-406c-a9cf-fdafeea01fd7"
      },
      "outputs": [
        {
          "data": {
            "text/plain": [
              "50.27425816516227"
            ]
          },
          "execution_count": 39,
          "metadata": {
            "tags": []
          },
          "output_type": "execute_result"
        }
      ],
      "source": [
        "c_V.max()"
      ]
    },
    {
      "cell_type": "code",
      "execution_count": null,
      "metadata": {
        "colab": {
          "base_uri": "https://localhost:8080/"
        },
        "id": "85noIrX9bh7X",
        "outputId": "c2b1f207-c7bf-466b-d3b1-9b8229cd6a26"
      },
      "outputs": [
        {
          "data": {
            "text/plain": [
              "0"
            ]
          },
          "execution_count": 65,
          "metadata": {},
          "output_type": "execute_result"
        }
      ],
      "source": [
        "dst_filename = 'z_record(9).tiff'\n",
        "x_pixels = len(dem)  # number of pixels in x\n",
        "y_pixels = len(dem[0])  # number of pixels in y\n",
        "driver = gdal.GetDriverByName('GTiff')\n",
        "dataset = driver.Create(dst_filename,x_pixels, y_pixels, 1,gdal.GDT_Float64)\n",
        "  \n",
        "dataset.GetRasterBand(1).WriteArray(z_record[9])\n"
      ]
    },
    {
      "cell_type": "code",
      "execution_count": null,
      "metadata": {
        "colab": {
          "base_uri": "https://localhost:8080/"
        },
        "id": "ZLMZGgKp-sbO",
        "outputId": "6e3341df-6098-4a90-cab8-62f4633a8f5a"
      },
      "outputs": [
        {
          "data": {
            "text/plain": [
              "0"
            ]
          },
          "execution_count": 66,
          "metadata": {},
          "output_type": "execute_result"
        }
      ],
      "source": [
        "dst_filename = 'z_record(4).tiff'\n",
        "x_pixels = len(dem)  # number of pixels in x\n",
        "y_pixels = len(dem[0])  # number of pixels in y\n",
        "driver = gdal.GetDriverByName('GTiff')\n",
        "dataset = driver.Create(dst_filename,x_pixels, y_pixels, 1,gdal.GDT_Float64)\n",
        "  \n",
        "dataset.GetRasterBand(1).WriteArray(z_record[4])\n"
      ]
    },
    {
      "cell_type": "code",
      "execution_count": null,
      "metadata": {
        "colab": {
          "base_uri": "https://localhost:8080/"
        },
        "id": "utJoOaVEPeTg",
        "outputId": "dd0964f5-8318-4c40-98bb-a952855630fd"
      },
      "outputs": [
        {
          "data": {
            "text/plain": [
              "0"
            ]
          },
          "execution_count": 67,
          "metadata": {},
          "output_type": "execute_result"
        }
      ],
      "source": [
        "dst_filename = 'z_record(6).tiff'\n",
        "x_pixels = len(dem)  # number of pixels in x\n",
        "y_pixels = len(dem[0])  # number of pixels in y\n",
        "driver = gdal.GetDriverByName('GTiff')\n",
        "dataset = driver.Create(dst_filename,x_pixels, y_pixels, 1,gdal.GDT_Float64)\n",
        "  \n",
        "dataset.GetRasterBand(1).WriteArray(z_record[6])"
      ]
    },
    {
      "cell_type": "code",
      "execution_count": null,
      "metadata": {
        "colab": {
          "base_uri": "https://localhost:8080/"
        },
        "id": "bTgm8bZKpqGT",
        "outputId": "259a88e5-63ae-4c52-a3ee-30bdfc27ae3a"
      },
      "outputs": [
        {
          "data": {
            "text/plain": [
              "0"
            ]
          },
          "execution_count": 89,
          "metadata": {
            "tags": []
          },
          "output_type": "execute_result"
        }
      ],
      "source": [
        "dst_filename = 'dem.tiff'\n",
        "x_pixels = len(dem)  # number of pixels in x\n",
        "y_pixels = len(dem[0])  # number of pixels in y\n",
        "driver = gdal.GetDriverByName('GTiff')\n",
        "dataset = driver.Create(dst_filename,x_pixels, y_pixels, 1,gdal.GDT_Float64)\n",
        "  \n",
        "dataset.GetRasterBand(1).WriteArray(dem)"
      ]
    },
    {
      "cell_type": "code",
      "execution_count": null,
      "metadata": {
        "colab": {
          "base_uri": "https://localhost:8080/",
          "height": 244
        },
        "id": "KjPRQcNjmUkY",
        "outputId": "b79237de-2de8-4657-d312-c076508892c0"
      },
      "outputs": [
        {
          "ename": "NameError",
          "evalue": "ignored",
          "output_type": "error",
          "traceback": [
            "\u001b[0;31m---------------------------------------------------------------------------\u001b[0m",
            "\u001b[0;31mNameError\u001b[0m                                 Traceback (most recent call last)",
            "\u001b[0;32m<ipython-input-2-346b86194780>\u001b[0m in \u001b[0;36m<module>\u001b[0;34m()\u001b[0m\n\u001b[1;32m      1\u001b[0m \u001b[0;34m\u001b[0m\u001b[0m\n\u001b[1;32m      2\u001b[0m \u001b[0mdst_filename\u001b[0m \u001b[0;34m=\u001b[0m \u001b[0;34m'10*6.tiff'\u001b[0m\u001b[0;34m\u001b[0m\u001b[0;34m\u001b[0m\u001b[0m\n\u001b[0;32m----> 3\u001b[0;31m \u001b[0mx_pixels\u001b[0m \u001b[0;34m=\u001b[0m \u001b[0mlen\u001b[0m\u001b[0;34m(\u001b[0m\u001b[0mdem\u001b[0m\u001b[0;34m)\u001b[0m  \u001b[0;31m# number of pixels in x\u001b[0m\u001b[0;34m\u001b[0m\u001b[0;34m\u001b[0m\u001b[0m\n\u001b[0m\u001b[1;32m      4\u001b[0m \u001b[0my_pixels\u001b[0m \u001b[0;34m=\u001b[0m \u001b[0mlen\u001b[0m\u001b[0;34m(\u001b[0m\u001b[0mdem\u001b[0m\u001b[0;34m[\u001b[0m\u001b[0;36m0\u001b[0m\u001b[0;34m]\u001b[0m\u001b[0;34m)\u001b[0m  \u001b[0;31m# number of pixels in y\u001b[0m\u001b[0;34m\u001b[0m\u001b[0;34m\u001b[0m\u001b[0m\n\u001b[1;32m      5\u001b[0m \u001b[0mdriver\u001b[0m \u001b[0;34m=\u001b[0m \u001b[0mgdal\u001b[0m\u001b[0;34m.\u001b[0m\u001b[0mGetDriverByName\u001b[0m\u001b[0;34m(\u001b[0m\u001b[0;34m'GTiff'\u001b[0m\u001b[0;34m)\u001b[0m\u001b[0;34m\u001b[0m\u001b[0;34m\u001b[0m\u001b[0m\n",
            "\u001b[0;31mNameError\u001b[0m: name 'dem' is not defined"
          ]
        }
      ],
      "source": [
        "\n",
        "dst_filename = '10*6.tiff'\n",
        "x_pixels = len(dem)  # number of pixels in x\n",
        "y_pixels = len(dem[0])  # number of pixels in y\n",
        "driver = gdal.GetDriverByName('GTiff')\n",
        "dataset = driver.Create(dst_filename,x_pixels, y_pixels, 1,gdal.GDT_Float64)\n",
        "  \n",
        "dataset.GetRasterBand(1).WriteArray(w_h_3)\n"
      ]
    },
    {
      "cell_type": "code",
      "execution_count": null,
      "metadata": {
        "id": "q5eJuWs_XlXs"
      },
      "outputs": [],
      "source": [
        "w_h_3 = np.array(w_h_record[3])"
      ]
    },
    {
      "cell_type": "code",
      "execution_count": null,
      "metadata": {
        "colab": {
          "base_uri": "https://localhost:8080/"
        },
        "id": "FvtVa7wQXygZ",
        "outputId": "48383e4d-c384-45db-ef7f-ef7b22f28465"
      },
      "outputs": [
        {
          "data": {
            "text/plain": [
              "array([[2., 2., 2., ..., 2., 2., 2.],\n",
              "       [2., 0., 0., ..., 0., 0., 0.],\n",
              "       [2., 0., 0., ..., 0., 0., 0.],\n",
              "       ...,\n",
              "       [2., 0., 0., ..., 0., 0., 0.],\n",
              "       [2., 0., 0., ..., 0., 0., 0.],\n",
              "       [2., 2., 2., ..., 2., 2., 2.]])"
            ]
          },
          "execution_count": 158,
          "metadata": {
            "tags": []
          },
          "output_type": "execute_result"
        }
      ],
      "source": [
        "w_h_3 "
      ]
    },
    {
      "cell_type": "code",
      "execution_count": null,
      "metadata": {
        "colab": {
          "base_uri": "https://localhost:8080/"
        },
        "id": "gmO5j6d3PL5G",
        "outputId": "c993761e-23f3-4229-9262-52f50a17463b"
      },
      "outputs": [
        {
          "data": {
            "text/plain": [
              "0"
            ]
          },
          "execution_count": 143,
          "metadata": {
            "tags": []
          },
          "output_type": "execute_result"
        }
      ],
      "source": [
        "dst_filename = '8w_h_record(4).tiff'\n",
        "x_pixels = len(dem)  # number of pixels in x\n",
        "y_pixels = len(dem[0])  # number of pixels in y\n",
        "driver = gdal.GetDriverByName('GTiff')\n",
        "dataset = driver.Create(dst_filename,x_pixels, y_pixels, 1,gdal.GDT_Float64)\n",
        "  \n",
        "dataset.GetRasterBand(1).WriteArray(w_h_record[4])"
      ]
    },
    {
      "cell_type": "code",
      "execution_count": null,
      "metadata": {
        "colab": {
          "base_uri": "https://localhost:8080/",
          "height": 207
        },
        "id": "EKfWpw2MEsdD",
        "outputId": "3d4470a7-de3e-4ab0-edd3-5ec3a64d1ac0"
      },
      "outputs": [
        {
          "ename": "IndexError",
          "evalue": "ignored",
          "output_type": "error",
          "traceback": [
            "\u001b[0;31m---------------------------------------------------------------------------\u001b[0m",
            "\u001b[0;31mIndexError\u001b[0m                                Traceback (most recent call last)",
            "\u001b[0;32m<ipython-input-127-2ba04d5763a0>\u001b[0m in \u001b[0;36m<module>\u001b[0;34m()\u001b[0m\n\u001b[1;32m      5\u001b[0m \u001b[0mdataset\u001b[0m \u001b[0;34m=\u001b[0m \u001b[0mdriver\u001b[0m\u001b[0;34m.\u001b[0m\u001b[0mCreate\u001b[0m\u001b[0;34m(\u001b[0m\u001b[0mdst_filename\u001b[0m\u001b[0;34m,\u001b[0m\u001b[0mx_pixels\u001b[0m\u001b[0;34m,\u001b[0m \u001b[0my_pixels\u001b[0m\u001b[0;34m,\u001b[0m \u001b[0;36m1\u001b[0m\u001b[0;34m,\u001b[0m\u001b[0mgdal\u001b[0m\u001b[0;34m.\u001b[0m\u001b[0mGDT_Float32\u001b[0m\u001b[0;34m)\u001b[0m\u001b[0;34m\u001b[0m\u001b[0;34m\u001b[0m\u001b[0m\n\u001b[1;32m      6\u001b[0m \u001b[0;34m\u001b[0m\u001b[0m\n\u001b[0;32m----> 7\u001b[0;31m \u001b[0mdataset\u001b[0m\u001b[0;34m.\u001b[0m\u001b[0mGetRasterBand\u001b[0m\u001b[0;34m(\u001b[0m\u001b[0;36m1\u001b[0m\u001b[0;34m)\u001b[0m\u001b[0;34m.\u001b[0m\u001b[0mWriteArray\u001b[0m\u001b[0;34m(\u001b[0m\u001b[0mz_record\u001b[0m\u001b[0;34m[\u001b[0m\u001b[0;36m5\u001b[0m\u001b[0;34m]\u001b[0m\u001b[0;34m)\u001b[0m\u001b[0;34m\u001b[0m\u001b[0;34m\u001b[0m\u001b[0m\n\u001b[0m",
            "\u001b[0;31mIndexError\u001b[0m: list index out of range"
          ]
        }
      ],
      "source": [
        "dst_filename = '7z_record(5).tiff'\n",
        "x_pixels = len(dem)  # number of pixels in x\n",
        "y_pixels = len(dem[0])  # number of pixels in y\n",
        "driver = gdal.GetDriverByName('GTiff')\n",
        "dataset = driver.Create(dst_filename,x_pixels, y_pixels, 1,gdal.GDT_Float32)\n",
        "  \n",
        "dataset.GetRasterBand(1).WriteArray(z_record[5])"
      ]
    },
    {
      "cell_type": "code",
      "execution_count": null,
      "metadata": {
        "colab": {
          "base_uri": "https://localhost:8080/"
        },
        "id": "IhFIBEdWHRk8",
        "outputId": "49ae7bda-2494-4f11-8bb2-7826304d5ed1"
      },
      "outputs": [
        {
          "data": {
            "text/plain": [
              "array([18.85, 18.91, 18.85, ..., 42.83, 42.79, 42.76])"
            ]
          },
          "execution_count": 79,
          "metadata": {
            "tags": []
          },
          "output_type": "execute_result"
        }
      ],
      "source": [
        "dem[450]"
      ]
    },
    {
      "cell_type": "code",
      "execution_count": null,
      "metadata": {
        "colab": {
          "base_uri": "https://localhost:8080/"
        },
        "id": "VcvxdwIwm4iP",
        "outputId": "5f584cb9-026a-4f8b-e9dd-b13c9673312a"
      },
      "outputs": [
        {
          "data": {
            "text/plain": [
              "0"
            ]
          },
          "execution_count": 33,
          "metadata": {
            "tags": []
          },
          "output_type": "execute_result"
        }
      ],
      "source": [
        "\n",
        "dst_filename = 'dem.tiff'\n",
        "x_pixels = len(dem)  # number of pixels in x\n",
        "y_pixels = len(dem[0])  # number of pixels in y\n",
        "driver = gdal.GetDriverByName('GTiff')\n",
        "dataset = driver.Create(dst_filename,x_pixels, y_pixels, 1,gdal.GDT_Float32)\n",
        "  \n",
        "dataset.GetRasterBand(1).WriteArray(dem)\n",
        "\n",
        "# follow code is adding GeoTranform and Projection\n",
        "\n",
        "  "
      ]
    },
    {
      "cell_type": "code",
      "execution_count": null,
      "metadata": {
        "colab": {
          "base_uri": "https://localhost:8080/"
        },
        "id": "0oaTA_KwNvaj",
        "outputId": "c1ef6d86-5500-44b2-e89f-e73b6b13bd76"
      },
      "outputs": [
        {
          "data": {
            "text/plain": [
              "0"
            ]
          },
          "execution_count": 20,
          "metadata": {
            "tags": []
          },
          "output_type": "execute_result"
        }
      ],
      "source": [
        "dst_filename = 'z_record(2)__.tiff'\n",
        "x_pixels = len(dem)  # number of pixels in x\n",
        "y_pixels = len(dem[0])  # number of pixels in y\n",
        "driver = gdal.GetDriverByName('GTiff')\n",
        "dataset = driver.Create(dst_filename,x_pixels, y_pixels, 1,gdal.GDT_Float32)\n",
        "  \n",
        "dataset.GetRasterBand(1).WriteArray(z_record[2])"
      ]
    },
    {
      "cell_type": "code",
      "execution_count": null,
      "metadata": {
        "colab": {
          "base_uri": "https://localhost:8080/"
        },
        "id": "MRaj-D07fSKJ",
        "outputId": "ce5bbd36-00a6-4422-eef0-18aba9a253b2"
      },
      "outputs": [
        {
          "data": {
            "text/plain": [
              "0"
            ]
          },
          "execution_count": 21,
          "metadata": {
            "tags": []
          },
          "output_type": "execute_result"
        }
      ],
      "source": [
        "dst_filename = 'z_record(3).tiff'\n",
        "x_pixels = len(dem)  # number of pixels in x\n",
        "y_pixels = len(dem[0])  # number of pixels in y\n",
        "driver = gdal.GetDriverByName('GTiff')\n",
        "dataset = driver.Create(dst_filename,x_pixels, y_pixels, 1,gdal.GDT_Float32)\n",
        "  \n",
        "dataset.GetRasterBand(1).WriteArray(z_record[3])\n"
      ]
    },
    {
      "cell_type": "code",
      "execution_count": null,
      "metadata": {
        "colab": {
          "base_uri": "https://localhost:8080/"
        },
        "id": "EmbY_zd0fVqJ",
        "outputId": "e2e70298-8169-4e79-b30b-b16954bd7bb2"
      },
      "outputs": [
        {
          "data": {
            "text/plain": [
              "0"
            ]
          },
          "execution_count": 22,
          "metadata": {
            "tags": []
          },
          "output_type": "execute_result"
        }
      ],
      "source": [
        "dst_filename = 'z_record(4).tiff'\n",
        "x_pixels = len(dem)  # number of pixels in x\n",
        "y_pixels = len(dem[0])  # number of pixels in y\n",
        "driver = gdal.GetDriverByName('GTiff')\n",
        "dataset = driver.Create(dst_filename,x_pixels, y_pixels, 1,gdal.GDT_Float32)\n",
        "  \n",
        "dataset.GetRasterBand(1).WriteArray(z_record[4])\n"
      ]
    },
    {
      "cell_type": "code",
      "execution_count": null,
      "metadata": {
        "colab": {
          "base_uri": "https://localhost:8080/"
        },
        "id": "TNQ3Rxo3fYN-",
        "outputId": "da551f5a-f117-4c24-aae0-09ddcc621321"
      },
      "outputs": [
        {
          "data": {
            "text/plain": [
              "0"
            ]
          },
          "execution_count": 23,
          "metadata": {
            "tags": []
          },
          "output_type": "execute_result"
        }
      ],
      "source": [
        "dst_filename = 'z_record(5).tiff'\n",
        "x_pixels = len(dem)  # number of pixels in x\n",
        "y_pixels = len(dem[0])  # number of pixels in y\n",
        "driver = gdal.GetDriverByName('GTiff')\n",
        "dataset = driver.Create(dst_filename,x_pixels, y_pixels, 1,gdal.GDT_Float32)\n",
        "  \n",
        "dataset.GetRasterBand(1).WriteArray(z_record[5])\n"
      ]
    },
    {
      "cell_type": "code",
      "execution_count": null,
      "metadata": {
        "colab": {
          "base_uri": "https://localhost:8080/"
        },
        "id": "TJNEDaXXfavm",
        "outputId": "91e2ee58-e8f4-4c6e-8a9d-b0fe5e443376"
      },
      "outputs": [
        {
          "data": {
            "text/plain": [
              "0"
            ]
          },
          "execution_count": 24,
          "metadata": {
            "tags": []
          },
          "output_type": "execute_result"
        }
      ],
      "source": [
        "dst_filename = 'z_record(6).tiff'\n",
        "x_pixels = len(dem)  # number of pixels in x\n",
        "y_pixels = len(dem[0])  # number of pixels in y\n",
        "driver = gdal.GetDriverByName('GTiff')\n",
        "dataset = driver.Create(dst_filename,x_pixels, y_pixels, 1,gdal.GDT_Float32)\n",
        "  \n",
        "dataset.GetRasterBand(1).WriteArray(z_record[6])\n"
      ]
    },
    {
      "cell_type": "code",
      "execution_count": null,
      "metadata": {
        "colab": {
          "base_uri": "https://localhost:8080/"
        },
        "id": "2z8qsw9-fknA",
        "outputId": "8c445847-e0b4-4e5e-f6b8-8611e1a143df"
      },
      "outputs": [
        {
          "data": {
            "text/plain": [
              "0"
            ]
          },
          "execution_count": 25,
          "metadata": {
            "tags": []
          },
          "output_type": "execute_result"
        }
      ],
      "source": [
        "dst_filename = 'z_record(7).tiff'\n",
        "x_pixels = len(dem)  # number of pixels in x\n",
        "y_pixels = len(dem[0])  # number of pixels in y\n",
        "driver = gdal.GetDriverByName('GTiff')\n",
        "dataset = driver.Create(dst_filename,x_pixels, y_pixels, 1,gdal.GDT_Float32)\n",
        "  \n",
        "dataset.GetRasterBand(1).WriteArray(z_record[7])\n"
      ]
    },
    {
      "cell_type": "code",
      "execution_count": null,
      "metadata": {
        "colab": {
          "base_uri": "https://localhost:8080/",
          "height": 244
        },
        "id": "AKU-T9UTBF1K",
        "outputId": "d549a4c8-0269-4215-ec5f-4d67860bed6f"
      },
      "outputs": [
        {
          "ename": "AttributeError",
          "evalue": "ignored",
          "output_type": "error",
          "traceback": [
            "\u001b[0;31m---------------------------------------------------------------------------\u001b[0m",
            "\u001b[0;31mAttributeError\u001b[0m                            Traceback (most recent call last)",
            "\u001b[0;32m<ipython-input-40-02cdee75cda4>\u001b[0m in \u001b[0;36m<module>\u001b[0;34m()\u001b[0m\n\u001b[1;32m      8\u001b[0m \u001b[0mg\u001b[0m \u001b[0;34m=\u001b[0m \u001b[0mgdal\u001b[0m\u001b[0;34m.\u001b[0m\u001b[0mOpen\u001b[0m \u001b[0;34m(\u001b[0m \u001b[0;34m\"st.tif\"\u001b[0m \u001b[0;34m)\u001b[0m\u001b[0;34m\u001b[0m\u001b[0;34m\u001b[0m\u001b[0m\n\u001b[1;32m      9\u001b[0m \u001b[0;31m# follow code is adding GeoTranform and Projection\u001b[0m\u001b[0;34m\u001b[0m\u001b[0;34m\u001b[0m\u001b[0;34m\u001b[0m\u001b[0m\n\u001b[0;32m---> 10\u001b[0;31m \u001b[0mgeotrans\u001b[0m\u001b[0;34m=\u001b[0m\u001b[0mg\u001b[0m\u001b[0;34m.\u001b[0m\u001b[0mGetGeoTransform\u001b[0m\u001b[0;34m(\u001b[0m\u001b[0;34m)\u001b[0m  \u001b[0;31m#get GeoTranform from existed 'data0'\u001b[0m\u001b[0;34m\u001b[0m\u001b[0;34m\u001b[0m\u001b[0m\n\u001b[0m\u001b[1;32m     11\u001b[0m \u001b[0mproj\u001b[0m\u001b[0;34m=\u001b[0m\u001b[0mg\u001b[0m\u001b[0;34m.\u001b[0m\u001b[0mGetProjection\u001b[0m\u001b[0;34m(\u001b[0m\u001b[0;34m)\u001b[0m \u001b[0;31m#you can get from a exsited tif or import\u001b[0m\u001b[0;34m\u001b[0m\u001b[0;34m\u001b[0m\u001b[0m\n\u001b[1;32m     12\u001b[0m \u001b[0mdataset\u001b[0m\u001b[0;34m.\u001b[0m\u001b[0mSetGeoTransform\u001b[0m\u001b[0;34m(\u001b[0m\u001b[0mgeotrans\u001b[0m\u001b[0;34m)\u001b[0m\u001b[0;34m\u001b[0m\u001b[0;34m\u001b[0m\u001b[0m\n",
            "\u001b[0;31mAttributeError\u001b[0m: 'NoneType' object has no attribute 'GetGeoTransform'"
          ]
        }
      ],
      "source": [
        "\n",
        "g = gdal.Open ( \"st.tif\" )\n",
        "# follow code is adding GeoTranform and Projection\n",
        "geotrans=g.GetGeoTransform()  #get GeoTranform from existed 'data0'\n",
        "proj=g.GetProjection() #you can get from a exsited tif or import \n",
        "dataset.SetGeoTransform(geotrans)\n",
        "dataset.SetProjection(proj)\n",
        "dataset.FlushCache()\n",
        "dataset=None\n",
        "  "
      ]
    },
    {
      "cell_type": "code",
      "execution_count": null,
      "metadata": {
        "id": "QlZgLeqtBczw"
      },
      "outputs": [],
      "source": [
        "dst_filename = 'z_record(17).tiff'\n",
        "x_pixels = len(dem)  # number of pixels in x\n",
        "y_pixels = len(dem[0])  # number of pixels in y\n",
        "driver = gdal.GetDriverByName('GTiff')\n",
        "dataset = driver.Create(dst_filename,x_pixels, y_pixels, 1,gdal.GDT_Float32)\n",
        "  \n",
        "dataset.GetRasterBand(1).WriteArray(z_record[17])\n",
        "g = gdal.Open ( \"st.tif\" )\n",
        "# follow code is adding GeoTranform and Projection\n",
        "geotrans=g.GetGeoTransform()  #get GeoTranform from existed 'data0'\n",
        "proj=g.GetProjection() #you can get from a exsited tif or import \n",
        "dataset.SetGeoTransform(geotrans)\n",
        "dataset.SetProjection(proj)\n",
        "dataset.FlushCache()\n",
        "dataset=None\n",
        "  "
      ]
    },
    {
      "cell_type": "code",
      "execution_count": null,
      "metadata": {
        "colab": {
          "base_uri": "https://localhost:8080/",
          "height": 207
        },
        "id": "2C1wOSUayHD-",
        "outputId": "0f01d516-48b9-4f8d-fa84-35dd4387db08"
      },
      "outputs": [
        {
          "ename": "AttributeError",
          "evalue": "ignored",
          "output_type": "error",
          "traceback": [
            "\u001b[0;31m---------------------------------------------------------------------------\u001b[0m",
            "\u001b[0;31mAttributeError\u001b[0m                            Traceback (most recent call last)",
            "\u001b[0;32m<ipython-input-44-3a6550b5c73e>\u001b[0m in \u001b[0;36m<module>\u001b[0;34m()\u001b[0m\n\u001b[1;32m      5\u001b[0m \u001b[0mdataset\u001b[0m \u001b[0;34m=\u001b[0m \u001b[0mdriver\u001b[0m\u001b[0;34m.\u001b[0m\u001b[0mCreate\u001b[0m\u001b[0;34m(\u001b[0m\u001b[0mdst_filename\u001b[0m\u001b[0;34m,\u001b[0m\u001b[0mx_pixels\u001b[0m\u001b[0;34m,\u001b[0m \u001b[0my_pixels\u001b[0m\u001b[0;34m,\u001b[0m \u001b[0;36m1\u001b[0m\u001b[0;34m,\u001b[0m\u001b[0mgdal\u001b[0m\u001b[0;34m.\u001b[0m\u001b[0mGDT_Float32\u001b[0m\u001b[0;34m)\u001b[0m\u001b[0;34m\u001b[0m\u001b[0;34m\u001b[0m\u001b[0m\n\u001b[1;32m      6\u001b[0m \u001b[0mh\u001b[0m\u001b[0;34m=\u001b[0m\u001b[0mz_record\u001b[0m\u001b[0;34m[\u001b[0m\u001b[0;36m0\u001b[0m\u001b[0;34m]\u001b[0m\u001b[0;34m\u001b[0m\u001b[0;34m\u001b[0m\u001b[0m\n\u001b[0;32m----> 7\u001b[0;31m \u001b[0mdataset\u001b[0m\u001b[0;34m.\u001b[0m\u001b[0mGetRasterBand\u001b[0m\u001b[0;34m(\u001b[0m\u001b[0;36m1\u001b[0m\u001b[0;34m)\u001b[0m\u001b[0;34m.\u001b[0m\u001b[0mWriteArray\u001b[0m\u001b[0;34m(\u001b[0m\u001b[0mh\u001b[0m\u001b[0;34m)\u001b[0m\u001b[0;34m\u001b[0m\u001b[0;34m\u001b[0m\u001b[0m\n\u001b[0m",
            "\u001b[0;31mAttributeError\u001b[0m: 'NoneType' object has no attribute 'GetRasterBand'"
          ]
        }
      ],
      "source": [
        "    dst_filename = str(i)+'_'+str(z_record)+ '.tiff'\n",
        "    x_pixels = len(dem)  # number of pixels in x\n",
        "    y_pixels = len(dem[0])  # number of pixels in y\n",
        "    driver = gdal.GetDriverByName('GTiff')\n",
        "    dataset = driver.Create(dst_filename,x_pixels, y_pixels, 1,gdal.GDT_Float32)\n",
        "    h=z_record[0]\n",
        "    dataset.GetRasterBand(1).WriteArray(h)"
      ]
    },
    {
      "cell_type": "code",
      "execution_count": null,
      "metadata": {
        "colab": {
          "base_uri": "https://localhost:8080/",
          "height": 298
        },
        "id": "nNz5r0g4eJmq",
        "outputId": "7f12316f-0f94-4060-8f12-fac1329c04e3"
      },
      "outputs": [
        {
          "ename": "NameError",
          "evalue": "ignored",
          "output_type": "error",
          "traceback": [
            "\u001b[0;31m---------------------------------------------------------------------------\u001b[0m",
            "\u001b[0;31mNameError\u001b[0m                                 Traceback (most recent call last)",
            "\u001b[0;32m<ipython-input-17-787e470e6578>\u001b[0m in \u001b[0;36m<module>\u001b[0;34m()\u001b[0m\n\u001b[0;32m----> 1\u001b[0;31m \u001b[0msave\u001b[0m\u001b[0;34m(\u001b[0m\u001b[0mz_record\u001b[0m\u001b[0;34m)\u001b[0m\u001b[0;34m\u001b[0m\u001b[0;34m\u001b[0m\u001b[0m\n\u001b[0m",
            "\u001b[0;32m<ipython-input-16-8cab7de0daa9>\u001b[0m in \u001b[0;36msave\u001b[0;34m(z_record)\u001b[0m\n\u001b[1;32m      2\u001b[0m   \u001b[0;32mfor\u001b[0m \u001b[0mi\u001b[0m \u001b[0;32min\u001b[0m \u001b[0;34m(\u001b[0m\u001b[0;36m0\u001b[0m\u001b[0;34m,\u001b[0m\u001b[0mlen\u001b[0m\u001b[0;34m(\u001b[0m\u001b[0mz_record\u001b[0m\u001b[0;34m)\u001b[0m\u001b[0;34m)\u001b[0m\u001b[0;34m:\u001b[0m\u001b[0;34m\u001b[0m\u001b[0;34m\u001b[0m\u001b[0m\n\u001b[1;32m      3\u001b[0m     \u001b[0mdst_filename\u001b[0m \u001b[0;34m=\u001b[0m \u001b[0mstr\u001b[0m\u001b[0;34m(\u001b[0m\u001b[0mi\u001b[0m\u001b[0;34m)\u001b[0m\u001b[0;34m+\u001b[0m\u001b[0;34m'_'\u001b[0m\u001b[0;34m+\u001b[0m\u001b[0mstr\u001b[0m\u001b[0;34m(\u001b[0m\u001b[0mz_record\u001b[0m\u001b[0;34m)\u001b[0m\u001b[0;34m+\u001b[0m \u001b[0;34m'.tiff'\u001b[0m\u001b[0;34m\u001b[0m\u001b[0;34m\u001b[0m\u001b[0m\n\u001b[0;32m----> 4\u001b[0;31m     \u001b[0mx_pixels\u001b[0m \u001b[0;34m=\u001b[0m \u001b[0mlen\u001b[0m\u001b[0;34m(\u001b[0m\u001b[0mdem\u001b[0m\u001b[0;34m)\u001b[0m  \u001b[0;31m# number of pixels in x\u001b[0m\u001b[0;34m\u001b[0m\u001b[0;34m\u001b[0m\u001b[0m\n\u001b[0m\u001b[1;32m      5\u001b[0m     \u001b[0my_pixels\u001b[0m \u001b[0;34m=\u001b[0m \u001b[0mlen\u001b[0m\u001b[0;34m(\u001b[0m\u001b[0mdem\u001b[0m\u001b[0;34m[\u001b[0m\u001b[0;36m0\u001b[0m\u001b[0;34m]\u001b[0m\u001b[0;34m)\u001b[0m  \u001b[0;31m# number of pixels in y\u001b[0m\u001b[0;34m\u001b[0m\u001b[0;34m\u001b[0m\u001b[0m\n\u001b[1;32m      6\u001b[0m     \u001b[0mdriver\u001b[0m \u001b[0;34m=\u001b[0m \u001b[0mgdal\u001b[0m\u001b[0;34m.\u001b[0m\u001b[0mGetDriverByName\u001b[0m\u001b[0;34m(\u001b[0m\u001b[0;34m'GTiff'\u001b[0m\u001b[0;34m)\u001b[0m\u001b[0;34m\u001b[0m\u001b[0;34m\u001b[0m\u001b[0m\n",
            "\u001b[0;31mNameError\u001b[0m: name 'dem' is not defined"
          ]
        }
      ],
      "source": [
        "save(z_record)"
      ]
    },
    {
      "cell_type": "code",
      "execution_count": null,
      "metadata": {
        "id": "y27OgkqWeG5x"
      },
      "outputs": [],
      "source": [
        "dst_filename = 'h_50.tiff'\n",
        "x_pixels = len(dem)  # number of pixels in x\n",
        "y_pixels = len(dem[0])  # number of pixels in y\n",
        "driver = gdal.GetDriverByName('GTiff')\n",
        "dataset = driver.Create(dst_filename,x_pixels, y_pixels, 1,gdal.GDT_Float32)\n",
        "dataset.GetRasterBand(1).WriteArray(z_record[49])\n",
        "\n",
        "g = gdal.Open ( \"st.tif\" )\n",
        "# follow code is adding GeoTranform and Projection\n",
        "geotrans=g.GetGeoTransform()  #get GeoTranform from existed 'data0'\n",
        "proj=g.GetProjection() #you can get from a exsited tif or import \n",
        "dataset.SetGeoTransform(geotrans)\n",
        "dataset.SetProjection(proj)\n",
        "dataset.FlushCache()\n",
        "dataset=None"
      ]
    },
    {
      "cell_type": "code",
      "execution_count": null,
      "metadata": {
        "id": "BbUVTi_yWtHP"
      },
      "outputs": [],
      "source": [
        "r =1\n",
        "dt = 30\n",
        "number = 3\n",
        "precip= 0.00001\n",
        "\n"
      ]
    },
    {
      "cell_type": "code",
      "execution_count": null,
      "metadata": {
        "id": "154HW59xZB2F"
      },
      "outputs": [],
      "source": [
        "  h0 = precip\n",
        "  z_record = []\n",
        "  w_h_record =[]\n",
        "  (d, d_i) = direction(dem)\n",
        "  u= vel_init(r, d_i, dem, Cd, d, h0)\n"
      ]
    },
    {
      "cell_type": "code",
      "execution_count": null,
      "metadata": {
        "colab": {
          "base_uri": "https://localhost:8080/"
        },
        "id": "3RvkLCTuZIyi",
        "outputId": "521b9038-8062-479f-cb89-fa9fd1dd3526"
      },
      "outputs": [
        {
          "data": {
            "text/plain": [
              "array([[0.00000000e+00, 0.00000000e+00, 0.00000000e+00, ...,\n",
              "        0.00000000e+00, 0.00000000e+00, 0.00000000e+00],\n",
              "       [0.00000000e+00, 2.71240000e+01, 1.12496443e+07, ...,\n",
              "        2.30240000e+01, 3.36879972e+08, 2.31420000e+01],\n",
              "       [0.00000000e+00, 1.29812336e+07, 2.70640000e+01, ...,\n",
              "        8.03858676e+08, 2.29640000e+01, 2.30920000e+01],\n",
              "       ...,\n",
              "       [0.00000000e+00, 1.13524604e+06, 1.79640000e+01, ...,\n",
              "        1.28608064e+10, 3.10340000e+01, 3.10580000e+01],\n",
              "       [0.00000000e+00, 1.79140000e+01, 2.19573154e+07, ...,\n",
              "        1.14495078e+06, 1.66314617e+03, 3.11220000e+01],\n",
              "       [0.00000000e+00, 0.00000000e+00, 0.00000000e+00, ...,\n",
              "        0.00000000e+00, 0.00000000e+00, 0.00000000e+00]])"
            ]
          },
          "execution_count": 68,
          "metadata": {
            "tags": []
          },
          "output_type": "execute_result"
        }
      ],
      "source": [
        "h_3\n"
      ]
    },
    {
      "cell_type": "code",
      "execution_count": null,
      "metadata": {
        "id": "aDZDFsHBZXex"
      },
      "outputs": [],
      "source": [
        "    (d, d_i) = direction(z)\n"
      ]
    },
    {
      "cell_type": "code",
      "execution_count": null,
      "metadata": {
        "id": "-E_VTc3cbZ2U"
      },
      "outputs": [],
      "source": [
        "    u = vel(r, d_i, z, Cd, d, w_h_1, dem)\n",
        "\n"
      ]
    },
    {
      "cell_type": "code",
      "execution_count": null,
      "metadata": {
        "id": "dhHp5XhNbj-1"
      },
      "outputs": [],
      "source": [
        "    z, w_h = vol(d_i, z, u, w_h_1, d, cb, h0, dt, c_V)"
      ]
    },
    {
      "cell_type": "code",
      "execution_count": null,
      "metadata": {
        "id": "tV1rq-jnbqzd"
      },
      "outputs": [],
      "source": [
        "    z_record.append(z)\n",
        "    w_h_record.append(w_h)"
      ]
    },
    {
      "cell_type": "code",
      "execution_count": null,
      "metadata": {
        "colab": {
          "base_uri": "https://localhost:8080/"
        },
        "id": "gCQE7JsJb2gk",
        "outputId": "c52db392-e719-416d-84f7-4c42c682bd04"
      },
      "outputs": [
        {
          "data": {
            "text/plain": [
              "array([[0.00000000e+00, 0.00000000e+00, 0.00000000e+00, ...,\n",
              "        0.00000000e+00, 0.00000000e+00, 0.00000000e+00],\n",
              "       [0.00000000e+00, 2.71120000e+01, 1.47448600e+03, ...,\n",
              "        2.30120000e+01, 2.52813096e+04, 2.31060000e+01],\n",
              "       [0.00000000e+00, 1.03563198e+03, 2.70520000e+01, ...,\n",
              "        3.97712093e+05, 2.29520000e+01, 2.30560000e+01],\n",
              "       ...,\n",
              "       [0.00000000e+00, 1.95913410e+02, 2.01988026e+01, ...,\n",
              "        3.14890597e+01, 3.16607705e+01, 3.10349966e+01],\n",
              "       [0.00000000e+00, 1.79020000e+01, 1.62387916e+03, ...,\n",
              "        2.16252252e+02, 8.12708215e+01, 3.10860000e+01],\n",
              "       [0.00000000e+00, 0.00000000e+00, 0.00000000e+00, ...,\n",
              "        0.00000000e+00, 0.00000000e+00, 0.00000000e+00]])"
            ]
          },
          "execution_count": 44,
          "metadata": {
            "tags": []
          },
          "output_type": "execute_result"
        }
      ],
      "source": [
        "z"
      ]
    },
    {
      "cell_type": "code",
      "execution_count": null,
      "metadata": {
        "id": "kL_8OhR7b3B4"
      },
      "outputs": [],
      "source": [
        ""
      ]
    }
  ],
  "metadata": {
    "colab": {
      "collapsed_sections": [],
      "name": "final.ipynb",
      "provenance": []
    },
    "kernelspec": {
      "display_name": "Python 3",
      "name": "python3"
    },
    "language_info": {
      "name": "python"
    }
  },
  "nbformat": 4,
  "nbformat_minor": 0
}